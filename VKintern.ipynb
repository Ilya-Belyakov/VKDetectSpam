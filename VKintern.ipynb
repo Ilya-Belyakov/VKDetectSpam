{
  "cells": [
    {
      "cell_type": "markdown",
      "metadata": {
        "id": "Pa2INiJ5iihp"
      },
      "source": [
        "Дан тренировочный датасет с текстами сообщений из\n",
        "мессенджера на английском языке. Для каждого из них\n",
        "проставлен флаг того, является ли сообщение СПАМом.\n",
        "Так же дан тестовый датасет с такими же текстами\n",
        "сообщений, но без флага. На нем нужно будет\n",
        "проскорить модель и приложить результаты.\n",
        "Данные лежат по ссылке\n",
        "\n",
        "Поля датасета:\n",
        "\n",
        "• text_type - целевая переменная, флаг СПАМ/не\n",
        "СПАМ\n",
        "\n",
        "• text - текст сообщения.\n",
        "\n",
        "Задача:\n",
        "\n",
        "• провести базовую аналитику по имеющимся\n",
        "данным,\n",
        "\n",
        "• обучить модель по тексту сообщения определять,\n",
        "является ли ее содержимое СПАМом (ожидается,\n",
        "что будут опробованы несколько подходов, из\n",
        "которых аргументированно выбирается наилучший;\n",
        "можно использовать любую библиотеку или\n",
        "Фреймворк),\n",
        "\n",
        "• целевой метрикой при оценке работы модели будет\n",
        "ROC-AUC score,\n",
        "\n",
        "• произвести скоринг лучшей моделью тестовых\n",
        "данных, а результат записать в в виде\n",
        "таблицы с колонками score и text;\n",
        "\n",
        "• выложить код на jupyter notebook и\n",
        "результирующий файл со скорами модели\n",
        "на https://github.com отдельным проектом и\n",
        "поделиться ссылкой в поле для ответа.\n",
        "\n"
      ]
    },
    {
      "cell_type": "markdown",
      "source": [
        "Импорт библиотек"
      ],
      "metadata": {
        "id": "ITh-5NVbdluk"
      }
    },
    {
      "cell_type": "code",
      "execution_count": 106,
      "metadata": {
        "colab": {
          "base_uri": "https://localhost:8080/"
        },
        "id": "MlVZ3zEbgnbr",
        "outputId": "3c14c4bd-d7d4-41a5-a244-29ee59a9e938"
      },
      "outputs": [
        {
          "output_type": "stream",
          "name": "stdout",
          "text": [
            "Drive already mounted at /content/drive; to attempt to forcibly remount, call drive.mount(\"/content/drive\", force_remount=True).\n"
          ]
        }
      ],
      "source": [
        "from google.colab import drive\n",
        "drive.mount('/content/drive')\n",
        "from transformers import AutoTokenizer, AutoModelForSequenceClassification\n",
        "import os,random\n",
        "import numpy as np\n",
        "import matplotlib.pyplot as plt\n",
        "import pandas as pd\n",
        "from keras.losses import categorical_crossentropy\n",
        "import tensorflow as tf\n",
        "from sklearn.model_selection import train_test_split\n",
        "from tensorflow.keras.preprocessing.text import Tokenizer\n",
        "from tensorflow.keras.models import load_model\n",
        "from tensorflow.keras.layers import Dropout, Dense, Input,SpatialDropout1D, concatenate, Bidirectional, BatchNormalization,SimpleRNN, Embedding,Activation, GRU, Conv1D, Flatten, LSTM\n",
        "from tensorflow.keras import Model\n",
        "from tensorflow.keras.optimizers import Adam\n",
        "from tensorflow.keras import utils"
      ]
    },
    {
      "cell_type": "markdown",
      "source": [
        "Загрузка тренировочного датасета"
      ],
      "metadata": {
        "id": "XOzX8VIEdvSJ"
      }
    },
    {
      "cell_type": "code",
      "execution_count": 107,
      "metadata": {
        "colab": {
          "base_uri": "https://localhost:8080/"
        },
        "id": "g4iqlQ9uiwK1",
        "outputId": "aa5ab382-175f-4ccc-b25d-0a9f685200cc"
      },
      "outputs": [
        {
          "output_type": "execute_result",
          "data": {
            "text/plain": [
              "(Index(['text_type', 'text'], dtype='object'), (16278, 2))"
            ]
          },
          "metadata": {},
          "execution_count": 107
        }
      ],
      "source": [
        "path = 'drive/MyDrive/Colab Notebooks/VKintern/'\n",
        "file_name = 'train_spam.csv'\n",
        "punctuation_list = ['.',',',':','!','?','/','@','$','+','-']\n",
        "df = pd.read_csv(path+file_name)\n",
        "data = df.values #  (16278, 2)\n",
        "df.columns, data.shape"
      ]
    },
    {
      "cell_type": "markdown",
      "source": [
        "Функция для замены латинских букв в один диапазон кодировки\n",
        "\n",
        "Смайлики обосабливаются пробелами\n",
        "\n",
        "Цифры заменяются на '0'"
      ],
      "metadata": {
        "id": "0B9JaVred2dZ"
      }
    },
    {
      "cell_type": "code",
      "execution_count": 108,
      "metadata": {
        "id": "lpMw7ZTuzz6s"
      },
      "outputs": [],
      "source": [
        "def treat_message(text):\n",
        "  text = text.split()\n",
        "  for j,t in enumerate(text):\n",
        "    for chri in range(len(text[j])):\n",
        "      c = ord(text[j][chri])\n",
        "      if 119808<=c<=120483:\n",
        "        text[j] = text[j][:chri]+chr(c%26+97)+text[j][chri+1:]\n",
        "      elif 127462<=c<=127487:\n",
        "        text[j] = text[j][:chri]+chr(c%26+97)+text[j][chri+1:]\n",
        "      elif 127280<=c<=127305: # ===================================================================\n",
        "        text[j] = text[j][:chri]+chr(c%26-10+97)+text[j][chri+1:]\n",
        "      elif 127344<=c<=127369: # ===================================================================\n",
        "        text[j] = text[j][:chri]+chr(c%26-22+97)+text[j][chri+1:]\n",
        "      elif 127312<=c<=127337: # ===================================================================\n",
        "        text[j] = text[j][:chri]+chr(c%26-16+97)+text[j][chri+1:]\n",
        "      elif 43898<=c<=43923: # ===================================================================\n",
        "        text[j] = text[j][:chri]+chr(c%26-10+97)+text[j][chri+1:]\n",
        "      elif c==42801:\n",
        "        text[j] = text[j][:chri]+'s'+text[j][chri+1:]\n",
        "      elif c==42800:\n",
        "        text[j] = text[j][:chri]+'f'+text[j][chri+1:]\n",
        "    di = 0\n",
        "    for chri in range(len(text[j])):\n",
        "      c = ord(text[j][chri+di])\n",
        "      if c>8000 or chr(c) in punctuation_list:\n",
        "        text[j] = text[j][:chri+di]+' '+text[j][chri+di]+' '+text[j][chri+di+1:]\n",
        "        di+=2\n",
        "      if 48<=c<=57:\n",
        "        text[j] = text[j][:chri+di]+' '+'0'+' '+text[j][chri+di+1:]\n",
        "        di+=2\n",
        "  text = ' '.join(text)\n",
        "  return text"
      ]
    },
    {
      "cell_type": "markdown",
      "source": [
        "Создание раздельных списков скам сообщений и обычных"
      ],
      "metadata": {
        "id": "BZAiXNavelKk"
      }
    },
    {
      "cell_type": "code",
      "execution_count": 109,
      "metadata": {
        "colab": {
          "base_uri": "https://localhost:8080/"
        },
        "id": "Q44xBcY2YZwg",
        "outputId": "0b4d0d6e-1c91-4914-c974-ce156f12888a"
      },
      "outputs": [
        {
          "output_type": "stream",
          "name": "stdout",
          "text": [
            "599\n"
          ]
        },
        {
          "output_type": "execute_result",
          "data": {
            "text/plain": [
              "(4809, 11469)"
            ]
          },
          "metadata": {},
          "execution_count": 109
        }
      ],
      "source": [
        "spam = []\n",
        "ham = []\n",
        "for i in data:\n",
        "  text = i[1]\n",
        "  text = treat_message(text)\n",
        "  if i[0]=='spam':\n",
        "    spam.append(text)\n",
        "  else:\n",
        "    ham.append(text)\n",
        "print(max([len(i.split()) for i in ham+spam]))\n",
        "len(spam),len(ham)"
      ]
    },
    {
      "cell_type": "markdown",
      "source": [
        "Создается 3 словаря частотности: словарь спам-сообщений, словарь для нормальных сообщений и общий словарь"
      ],
      "metadata": {
        "id": "YAD2yGSWe2wj"
      }
    },
    {
      "cell_type": "code",
      "execution_count": 110,
      "metadata": {
        "id": "UJ9fG0SJy1Y7"
      },
      "outputs": [],
      "source": [
        "tokenizer = Tokenizer(num_words=100000)\n",
        "z = spam[0]\n",
        "tokenizer.fit_on_texts(ham)\n",
        "tham = tokenizer.word_index\n",
        "tokenizer.fit_on_texts(spam)\n",
        "tspam = tokenizer.word_index\n",
        "tokenizer.fit_on_texts(spam+ham)\n",
        "d = tokenizer.word_index"
      ]
    },
    {
      "cell_type": "code",
      "execution_count": 111,
      "metadata": {
        "colab": {
          "base_uri": "https://localhost:8080/"
        },
        "id": "c6JIESrZzIlU",
        "outputId": "22949309-16be-4913-ac66-253797a891aa"
      },
      "outputs": [
        {
          "output_type": "stream",
          "name": "stdout",
          "text": [
            "520\n"
          ]
        },
        {
          "output_type": "execute_result",
          "data": {
            "text/plain": [
              "4070"
            ]
          },
          "metadata": {},
          "execution_count": 111
        }
      ],
      "source": [
        "file_name = 'test_spam.csv'\n",
        "df = pd.read_csv(path+file_name)\n",
        "data = df.values\n",
        "task = []\n",
        "for i in data:\n",
        "  text = i[0]\n",
        "  text = treat_message(text)\n",
        "  task.append(text)\n",
        "print(max([len(i.split()) for i in task]))\n",
        "len(task)"
      ]
    },
    {
      "cell_type": "code",
      "execution_count": 112,
      "metadata": {
        "id": "_EZl1m_N-uTA"
      },
      "outputs": [],
      "source": [
        "task = [task[i].split() for i in range(len(task))]\n",
        "ham = [ham[i].split() for i in range(len(ham))]\n",
        "spam = [spam[i].split() for i in range(len(spam))]"
      ]
    },
    {
      "cell_type": "markdown",
      "source": [
        "Замена обработанных слов сообщений на токены\n",
        "\n",
        "Если порядок слова хотя бы в одном из словарей меньше 500, то берется его токен из общего словаря, в противном случае ему присваивается нулевой токен"
      ],
      "metadata": {
        "id": "TdDPblM2eyR3"
      }
    },
    {
      "cell_type": "code",
      "source": [
        "def select_token(i,x):\n",
        "  for j in i:\n",
        "    if j not in punctuation_list:\n",
        "      if j =='0':\n",
        "        if x[-1]!=[]:\n",
        "         if x[-1][-1]!=1:\n",
        "          x[-1].append(1)\n",
        "        continue\n",
        "      if j in tham:\n",
        "        if tham[j]<=500:\n",
        "          x[-1].append(d[j])\n",
        "          continue\n",
        "      if j in tspam:\n",
        "        if tspam[j]<=500:\n",
        "          x[-1].append(d[j])\n",
        "          continue\n",
        "      x[-1].append(0)\n",
        "    if j=='.':\n",
        "          x[-1].append(2000)\n",
        "          continue\n",
        "  return x"
      ],
      "metadata": {
        "id": "6Nabw_9MbIf8"
      },
      "execution_count": 113,
      "outputs": []
    },
    {
      "cell_type": "code",
      "execution_count": 114,
      "metadata": {
        "colab": {
          "base_uri": "https://localhost:8080/"
        },
        "id": "dQvAYTqM4eXs",
        "outputId": "4c9734f2-b59d-4368-9fa8-f2c9c6a65f98"
      },
      "outputs": [
        {
          "output_type": "stream",
          "name": "stdout",
          "text": [
            "11469 4809 4070\n"
          ]
        }
      ],
      "source": [
        "xham = []\n",
        "xspam = []\n",
        "xtask = []\n",
        "for i in ham:\n",
        "  xham.append([])\n",
        "  xham = select_token(i,xham)\n",
        "for i in spam:\n",
        "  xspam.append([])\n",
        "  xspam = select_token(i,xspam)\n",
        "for i in task:\n",
        "  xtask.append([])\n",
        "  xtask = select_token(i,xtask)\n",
        "print(len(xham),len(xspam),len(xtask))"
      ]
    },
    {
      "cell_type": "markdown",
      "source": [
        "Иллюстрация замены слов из списка спама"
      ],
      "metadata": {
        "id": "SCZI5EubficJ"
      }
    },
    {
      "cell_type": "code",
      "execution_count": 115,
      "metadata": {
        "id": "cKcqtH0RLN-W",
        "colab": {
          "base_uri": "https://localhost:8080/"
        },
        "outputId": "1abb14f8-ede4-400c-c406-aaaebebfa3b5"
      },
      "outputs": [
        {
          "output_type": "execute_result",
          "data": {
            "text/plain": [
              "(['access',\n",
              "  'to',\n",
              "  'account',\n",
              "  'as',\n",
              "  'part',\n",
              "  'of',\n",
              "  'our',\n",
              "  'we',\n",
              "  'in',\n",
              "  'system',\n",
              "  'we',\n",
              "  'the',\n",
              "  'following',\n",
              "  'issue',\n",
              "  'on',\n",
              "  'your',\n",
              "  'account',\n",
              "  'we',\n",
              "  'would',\n",
              "  'like',\n",
              "  'to',\n",
              "  'that',\n",
              "  'your',\n",
              "  'account',\n",
              "  'was',\n",
              "  'not',\n",
              "  'by',\n",
              "  'because',\n",
              "  'the',\n",
              "  'of',\n",
              "  'your',\n",
              "  'account',\n",
              "  'is',\n",
              "  'our',\n",
              "  'we',\n",
              "  'have',\n",
              "  'access',\n",
              "  'to',\n",
              "  'account',\n",
              "  'we',\n",
              "  'know',\n",
              "  'that',\n",
              "  'this',\n",
              "  'may',\n",
              "  'be',\n",
              "  'an',\n",
              "  'but',\n",
              "  'that',\n",
              "  'this',\n",
              "  'is',\n",
              "  'for',\n",
              "  'your',\n",
              "  'case',\n",
              "  'id',\n",
              "  'number',\n",
              "  '0',\n",
              "  'to',\n",
              "  'review',\n",
              "  'your',\n",
              "  'account',\n",
              "  'and',\n",
              "  'some',\n",
              "  'or',\n",
              "  'all',\n",
              "  'of',\n",
              "  'the',\n",
              "  'information',\n",
              "  'that',\n",
              "  'used',\n",
              "  'to',\n",
              "  'make',\n",
              "  'its',\n",
              "  'to',\n",
              "  'your',\n",
              "  'account',\n",
              "  'access',\n",
              "  'please',\n",
              "  'visit',\n",
              "  'the',\n",
              "  'or',\n",
              "  'copy',\n",
              "  'this',\n",
              "  'link',\n",
              "  'and',\n",
              "  'it',\n",
              "  'in',\n",
              "  'the',\n",
              "  'internet'],\n",
              " ['limited',\n",
              "  'access',\n",
              "  'to',\n",
              "  'sensitive',\n",
              "  'paypal',\n",
              "  'account',\n",
              "  'features',\n",
              "  'as',\n",
              "  'part',\n",
              "  'of',\n",
              "  'our',\n",
              "  'security',\n",
              "  'measures',\n",
              "  'we',\n",
              "  'regularly',\n",
              "  'screen',\n",
              "  'activity',\n",
              "  'in',\n",
              "  'thepaypal',\n",
              "  'system',\n",
              "  'we',\n",
              "  'recently',\n",
              "  'noticed',\n",
              "  'the',\n",
              "  'following',\n",
              "  'issue',\n",
              "  'on',\n",
              "  'your',\n",
              "  'account',\n",
              "  'we',\n",
              "  'would',\n",
              "  'like',\n",
              "  'to',\n",
              "  'ensure',\n",
              "  'that',\n",
              "  'your',\n",
              "  'account',\n",
              "  'was',\n",
              "  'not',\n",
              "  'accessed',\n",
              "  'by',\n",
              "  'anunauthorized',\n",
              "  'third',\n",
              "  'party',\n",
              "  'because',\n",
              "  'protecting',\n",
              "  'the',\n",
              "  'security',\n",
              "  'of',\n",
              "  'your',\n",
              "  'account',\n",
              "  'is',\n",
              "  'our',\n",
              "  'primary',\n",
              "  'concern',\n",
              "  'we',\n",
              "  'have',\n",
              "  'limited',\n",
              "  'access',\n",
              "  'to',\n",
              "  'sensitive',\n",
              "  'paypal',\n",
              "  'account',\n",
              "  'features',\n",
              "  'we',\n",
              "  'know',\n",
              "  'that',\n",
              "  'this',\n",
              "  'may',\n",
              "  'be',\n",
              "  'an',\n",
              "  'inconvenience',\n",
              "  'but',\n",
              "  'pleaseunderstand',\n",
              "  'that',\n",
              "  'this',\n",
              "  'temporary',\n",
              "  'limitation',\n",
              "  'is',\n",
              "  'for',\n",
              "  'your',\n",
              "  'protection',\n",
              "  'case',\n",
              "  'id',\n",
              "  'number',\n",
              "  'pp',\n",
              "  '0',\n",
              "  '0',\n",
              "  '0',\n",
              "  '0',\n",
              "  '0',\n",
              "  '0',\n",
              "  '0',\n",
              "  '0',\n",
              "  '0',\n",
              "  'to',\n",
              "  'review',\n",
              "  'your',\n",
              "  'account',\n",
              "  'and',\n",
              "  'some',\n",
              "  'or',\n",
              "  'all',\n",
              "  'of',\n",
              "  'the',\n",
              "  'information',\n",
              "  'that',\n",
              "  'paypal',\n",
              "  'used',\n",
              "  'to',\n",
              "  'make',\n",
              "  'its',\n",
              "  'decision',\n",
              "  'to',\n",
              "  'limit',\n",
              "  'your',\n",
              "  'account',\n",
              "  'access',\n",
              "  'please',\n",
              "  'visit',\n",
              "  'the',\n",
              "  'resolution',\n",
              "  'center',\n",
              "  'or',\n",
              "  'copy',\n",
              "  'this',\n",
              "  'link',\n",
              "  'and',\n",
              "  'paste',\n",
              "  'it',\n",
              "  'in',\n",
              "  'the',\n",
              "  'internet',\n",
              "  'explorer',\n",
              "  'bar'])"
            ]
          },
          "metadata": {},
          "execution_count": 115
        }
      ],
      "source": [
        "ind = {value: key for key, value in d.items()}\n",
        "k = random.randint(0,1000)\n",
        "[ind[i] for j,i in enumerate(xspam[k]) if i!=0],spam[k]"
      ]
    },
    {
      "cell_type": "markdown",
      "source": [
        "Разделение выборок на тестовую, валидационную и тренировочную.\n",
        "\n",
        "В проверочных выборках соотношение сообщений со спамом и нормальных 1 к 1, чтобы применять метрику точности."
      ],
      "metadata": {
        "id": "HSEUMkTvjpHj"
      }
    },
    {
      "cell_type": "code",
      "execution_count": 116,
      "metadata": {
        "colab": {
          "base_uri": "https://localhost:8080/"
        },
        "id": "O5idDAlSt14W",
        "outputId": "c2fd19a7-e285-4040-8d21-5c58e39858dc"
      },
      "outputs": [
        {
          "output_type": "stream",
          "name": "stdout",
          "text": [
            "569\n"
          ]
        },
        {
          "output_type": "execute_result",
          "data": {
            "text/plain": [
              "((14278,),\n",
              " (14278, 600),\n",
              " (1000, 600),\n",
              " (1000,),\n",
              " (1000, 600),\n",
              " (1000,),\n",
              " (4070, 600))"
            ]
          },
          "metadata": {},
          "execution_count": 116
        }
      ],
      "source": [
        "print(max([len(i) for i in xspam]))\n",
        "m = 600\n",
        "label = np.array([1]*(len(xspam)-1000)+[0]*(len(xham)-1000))\n",
        "test_label = np.array([1]*500+[0]*500)\n",
        "val_label = np.array([1]*500+[0]*500)\n",
        "x = []\n",
        "for i in range(len(xtask)):\n",
        "  xtask[i] = xtask[i]+[0]*(m-len(xtask[i]))\n",
        "for i in xspam:\n",
        "  x.append(i+[0]*(m-len(i)))\n",
        "x_test = x[:500]\n",
        "x_val = x[-500:]\n",
        "x = x[500:-500]\n",
        "for i in xham:\n",
        "  x.append(i+[0]*(m-len(i)))\n",
        "x_test+=x[-500:]\n",
        "x_val += x[-1000:-500]\n",
        "x = x[:-1000]\n",
        "x = np.array(x)\n",
        "x_val = np.array(x_val)\n",
        "x_test = np.array(x_test)\n",
        "r = [range(1000)]\n",
        "random.shuffle(r)\n",
        "x_test = x_test[r].reshape((1000,600))\n",
        "xtask = np.array(xtask)\n",
        "x_val = x_val[r].reshape((1000,600))\n",
        "test_label = test_label[r].reshape(-1)\n",
        "val_label = val_label[r].reshape(-1)\n",
        "r = [range(x.shape[0])]\n",
        "random.shuffle(r)\n",
        "x = x[r].reshape((14278,600))\n",
        "label = label[r].reshape(-1)\n",
        "\n",
        "label.shape, x.shape, x_test.shape, test_label.shape, x_val.shape, val_label.shape, xtask.shape\n"
      ]
    },
    {
      "cell_type": "markdown",
      "source": [
        "Лучше всего подошла модель с двунаправленными lstm слоями"
      ],
      "metadata": {
        "id": "wQmtwzt7kRcC"
      }
    },
    {
      "cell_type": "code",
      "execution_count": 117,
      "metadata": {
        "colab": {
          "base_uri": "https://localhost:8080/"
        },
        "id": "LfQWGgoIkpL3",
        "outputId": "984a3b9f-f97b-4dbe-da61-ab3cb0a7e4f5"
      },
      "outputs": [
        {
          "output_type": "stream",
          "name": "stdout",
          "text": [
            "Число параметров: 55561\n",
            "Model: \"model_8\"\n",
            "_________________________________________________________________\n",
            " Layer (type)                Output Shape              Param #   \n",
            "=================================================================\n",
            " input_9 (InputLayer)        [(None, 600)]             0         \n",
            "                                                                 \n",
            " embedding_8 (Embedding)     (None, 600, 8)            16008     \n",
            "                                                                 \n",
            " spatial_dropout1d_7 (Spati  (None, 600, 8)            0         \n",
            " alDropout1D)                                                    \n",
            "                                                                 \n",
            " bidirectional_16 (Bidirect  (None, 600, 64)           10496     \n",
            " ional)                                                          \n",
            "                                                                 \n",
            " bidirectional_17 (Bidirect  (None, 64)                24832     \n",
            " ional)                                                          \n",
            "                                                                 \n",
            " dense_16 (Dense)            (None, 64)                4160      \n",
            "                                                                 \n",
            " dense_17 (Dense)            (None, 1)                 65        \n",
            "                                                                 \n",
            "=================================================================\n",
            "Total params: 55561 (217.04 KB)\n",
            "Trainable params: 55561 (217.04 KB)\n",
            "Non-trainable params: 0 (0.00 Byte)\n",
            "_________________________________________________________________\n"
          ]
        }
      ],
      "source": [
        "def lstm_model():\n",
        "  input = Input((600))\n",
        "  f = Embedding(input_dim = 2001,output_dim=8)(input)\n",
        "  f = SpatialDropout1D(0.2)(f)\n",
        "  f = Bidirectional(LSTM(32,return_sequences=True))(f)\n",
        "  f = Bidirectional(LSTM(32))(f)\n",
        "  f = Dense(64)(f)\n",
        "  f = Dense(1,activation='sigmoid')(f)\n",
        "  model = Model(input,f)\n",
        "  return model\n",
        "model = lstm_model()\n",
        "model.compile(loss='binary_crossentropy',optimizer=Adam(0.0003),metrics='accuracy')\n",
        "print('Число параметров:',\n",
        "      sum([np.array(i).reshape(-1).shape[0] for i in model.weights]))\n",
        "model.summary()"
      ]
    },
    {
      "cell_type": "markdown",
      "source": [
        "Тренировка"
      ],
      "metadata": {
        "id": "vjH68eyEkaEm"
      }
    },
    {
      "cell_type": "code",
      "execution_count": 131,
      "metadata": {
        "colab": {
          "base_uri": "https://localhost:8080/"
        },
        "id": "OzE8GZ-Po2Oo",
        "outputId": "021606f3-ee08-4f10-cc9e-90b327e63ee2"
      },
      "outputs": [
        {
          "output_type": "stream",
          "name": "stdout",
          "text": [
            "Epoch 1/40\n",
            "112/112 [==============================] - 9s 81ms/step - loss: 0.0922 - accuracy: 0.9679 - val_loss: 0.2565 - val_accuracy: 0.9200\n",
            "Epoch 2/40\n",
            "112/112 [==============================] - 7s 65ms/step - loss: 0.0856 - accuracy: 0.9693 - val_loss: 0.2395 - val_accuracy: 0.9210\n",
            "Epoch 3/40\n",
            "112/112 [==============================] - 8s 71ms/step - loss: 0.0832 - accuracy: 0.9699 - val_loss: 0.2620 - val_accuracy: 0.9210\n",
            "Epoch 4/40\n",
            "112/112 [==============================] - 7s 66ms/step - loss: 0.0823 - accuracy: 0.9709 - val_loss: 0.2639 - val_accuracy: 0.9230\n",
            "Epoch 5/40\n",
            "112/112 [==============================] - 8s 70ms/step - loss: 0.0819 - accuracy: 0.9714 - val_loss: 0.2648 - val_accuracy: 0.9170\n",
            "Epoch 6/40\n",
            "112/112 [==============================] - 8s 71ms/step - loss: 0.0769 - accuracy: 0.9731 - val_loss: 0.2859 - val_accuracy: 0.9190\n",
            "Epoch 7/40\n",
            "112/112 [==============================] - 7s 64ms/step - loss: 0.0767 - accuracy: 0.9742 - val_loss: 0.2802 - val_accuracy: 0.9230\n",
            "Epoch 8/40\n",
            "112/112 [==============================] - 8s 71ms/step - loss: 0.0793 - accuracy: 0.9737 - val_loss: 0.2842 - val_accuracy: 0.9180\n",
            "Epoch 9/40\n",
            "112/112 [==============================] - 7s 64ms/step - loss: 0.0792 - accuracy: 0.9716 - val_loss: 0.3002 - val_accuracy: 0.9210\n",
            "Epoch 10/40\n",
            "112/112 [==============================] - 8s 73ms/step - loss: 0.0791 - accuracy: 0.9712 - val_loss: 0.2521 - val_accuracy: 0.9230\n",
            "Epoch 11/40\n",
            "112/112 [==============================] - 8s 73ms/step - loss: 0.0730 - accuracy: 0.9760 - val_loss: 0.3220 - val_accuracy: 0.9220\n",
            "Epoch 12/40\n",
            "112/112 [==============================] - 8s 72ms/step - loss: 0.0710 - accuracy: 0.9760 - val_loss: 0.2718 - val_accuracy: 0.9230\n",
            "Epoch 13/40\n",
            "112/112 [==============================] - 8s 72ms/step - loss: 0.0700 - accuracy: 0.9764 - val_loss: 0.3019 - val_accuracy: 0.9190\n",
            "Epoch 14/40\n",
            "112/112 [==============================] - 7s 65ms/step - loss: 0.0713 - accuracy: 0.9758 - val_loss: 0.2738 - val_accuracy: 0.9260\n",
            "Epoch 15/40\n",
            "112/112 [==============================] - 8s 71ms/step - loss: 0.0694 - accuracy: 0.9756 - val_loss: 0.2797 - val_accuracy: 0.9250\n",
            "Epoch 16/40\n",
            "112/112 [==============================] - 8s 71ms/step - loss: 0.0691 - accuracy: 0.9767 - val_loss: 0.2878 - val_accuracy: 0.9280\n",
            "Epoch 17/40\n",
            "112/112 [==============================] - 8s 68ms/step - loss: 0.0696 - accuracy: 0.9761 - val_loss: 0.3155 - val_accuracy: 0.9200\n",
            "Epoch 18/40\n",
            "112/112 [==============================] - 8s 71ms/step - loss: 0.0716 - accuracy: 0.9753 - val_loss: 0.3015 - val_accuracy: 0.9200\n",
            "Epoch 19/40\n",
            "112/112 [==============================] - 7s 65ms/step - loss: 0.0694 - accuracy: 0.9764 - val_loss: 0.3021 - val_accuracy: 0.9240\n",
            "Epoch 20/40\n",
            "112/112 [==============================] - 8s 72ms/step - loss: 0.0679 - accuracy: 0.9775 - val_loss: 0.3085 - val_accuracy: 0.9190\n",
            "Epoch 21/40\n",
            "112/112 [==============================] - 8s 69ms/step - loss: 0.0663 - accuracy: 0.9778 - val_loss: 0.2932 - val_accuracy: 0.9230\n",
            "Epoch 22/40\n",
            "112/112 [==============================] - 8s 67ms/step - loss: 0.0683 - accuracy: 0.9767 - val_loss: 0.3040 - val_accuracy: 0.9260\n",
            "Epoch 23/40\n",
            "112/112 [==============================] - 8s 72ms/step - loss: 0.0658 - accuracy: 0.9769 - val_loss: 0.3243 - val_accuracy: 0.9300\n",
            "Epoch 24/40\n",
            "112/112 [==============================] - 7s 65ms/step - loss: 0.0679 - accuracy: 0.9774 - val_loss: 0.3298 - val_accuracy: 0.9230\n",
            "Epoch 25/40\n",
            "112/112 [==============================] - 8s 71ms/step - loss: 0.0675 - accuracy: 0.9770 - val_loss: 0.3141 - val_accuracy: 0.9260\n",
            "Epoch 26/40\n",
            "112/112 [==============================] - 8s 67ms/step - loss: 0.0667 - accuracy: 0.9789 - val_loss: 0.3077 - val_accuracy: 0.9210\n",
            "Epoch 27/40\n",
            "112/112 [==============================] - 8s 70ms/step - loss: 0.0639 - accuracy: 0.9774 - val_loss: 0.3340 - val_accuracy: 0.9230\n",
            "Epoch 28/40\n",
            "112/112 [==============================] - 8s 73ms/step - loss: 0.0678 - accuracy: 0.9767 - val_loss: 0.2884 - val_accuracy: 0.9250\n",
            "Epoch 29/40\n",
            "112/112 [==============================] - 7s 65ms/step - loss: 0.0799 - accuracy: 0.9728 - val_loss: 0.3004 - val_accuracy: 0.9270\n",
            "Epoch 30/40\n",
            "112/112 [==============================] - 8s 71ms/step - loss: 0.0697 - accuracy: 0.9758 - val_loss: 0.3105 - val_accuracy: 0.9220\n",
            "Epoch 31/40\n",
            "112/112 [==============================] - 7s 64ms/step - loss: 0.0691 - accuracy: 0.9774 - val_loss: 0.3089 - val_accuracy: 0.9250\n",
            "Epoch 32/40\n",
            "112/112 [==============================] - 8s 71ms/step - loss: 0.0684 - accuracy: 0.9767 - val_loss: 0.3341 - val_accuracy: 0.9230\n",
            "Epoch 33/40\n",
            "112/112 [==============================] - 9s 78ms/step - loss: 0.0661 - accuracy: 0.9777 - val_loss: 0.3107 - val_accuracy: 0.9280\n",
            "Epoch 34/40\n",
            "112/112 [==============================] - 7s 64ms/step - loss: 0.0630 - accuracy: 0.9790 - val_loss: 0.3245 - val_accuracy: 0.9280\n",
            "Epoch 35/40\n",
            "112/112 [==============================] - 8s 72ms/step - loss: 0.0663 - accuracy: 0.9774 - val_loss: 0.3199 - val_accuracy: 0.9250\n",
            "Epoch 36/40\n",
            "112/112 [==============================] - 7s 64ms/step - loss: 0.0645 - accuracy: 0.9783 - val_loss: 0.3253 - val_accuracy: 0.9220\n",
            "Epoch 37/40\n",
            "112/112 [==============================] - 8s 72ms/step - loss: 0.0651 - accuracy: 0.9784 - val_loss: 0.3231 - val_accuracy: 0.9250\n",
            "Epoch 38/40\n",
            "112/112 [==============================] - 8s 71ms/step - loss: 0.0646 - accuracy: 0.9786 - val_loss: 0.3052 - val_accuracy: 0.9290\n",
            "Epoch 39/40\n",
            "112/112 [==============================] - 8s 69ms/step - loss: 0.0628 - accuracy: 0.9788 - val_loss: 0.3296 - val_accuracy: 0.9230\n",
            "Epoch 40/40\n",
            "112/112 [==============================] - 8s 75ms/step - loss: 0.0631 - accuracy: 0.9791 - val_loss: 0.3058 - val_accuracy: 0.9240\n"
          ]
        }
      ],
      "source": [
        "h = model.fit(x,label.reshape(-1),\n",
        "              batch_size=128,\n",
        "              epochs = 40,\n",
        "              validation_data=(x_val,val_label))\n",
        "# 0.932"
      ]
    },
    {
      "cell_type": "code",
      "execution_count": 119,
      "metadata": {
        "id": "ca-gtCgNN8US",
        "colab": {
          "base_uri": "https://localhost:8080/",
          "height": 472
        },
        "outputId": "31217c58-df4c-4460-dcdb-57d3493e948a"
      },
      "outputs": [
        {
          "output_type": "display_data",
          "data": {
            "text/plain": [
              "<Figure size 640x480 with 1 Axes>"
            ],
            "image/png": "[encoded data removed]"
          },
          "metadata": {}
        }
      ],
      "source": [
        "# Визуализация процесса обучения\n",
        "history_dict = h.history\n",
        "loss_values = history_dict['loss']\n",
        "val_loss_values = history_dict['val_loss']\n",
        "epochs = range(1, len(loss_values) + 1)\n",
        "plt.plot(epochs, loss_values, label='Training loss')\n",
        "plt.plot(epochs, val_loss_values, label='Validation loss')\n",
        "plt.title('Training and validation loss')\n",
        "plt.xlabel('Epochs')\n",
        "plt.ylabel('Loss')\n",
        "plt.legend()\n",
        "plt.show()"
      ]
    },
    {
      "cell_type": "markdown",
      "source": [
        "Оценка модели на тестовой выборке"
      ],
      "metadata": {
        "id": "UI0VTUQPkdQl"
      }
    },
    {
      "cell_type": "markdown",
      "source": [],
      "metadata": {
        "id": "k0Y8w3cZkdOC"
      }
    },
    {
      "cell_type": "code",
      "source": [
        "p = model.predict(x_test).reshape(-1)  # Предсказание тестовой выборки\n",
        "1-np.sum(np.abs(test_label-np.round(p.reshape(-1))))/np.shape(test_label)[0]"
      ],
      "metadata": {
        "colab": {
          "base_uri": "https://localhost:8080/"
        },
        "id": "LbRsMQKEf4fn",
        "outputId": "0c18fbb9-6aaf-49d4-d41c-c6481993d195"
      },
      "execution_count": 133,
      "outputs": [
        {
          "output_type": "stream",
          "name": "stdout",
          "text": [
            "32/32 [==============================] - 1s 29ms/step\n"
          ]
        },
        {
          "output_type": "execute_result",
          "data": {
            "text/plain": [
              "0.928"
            ]
          },
          "metadata": {},
          "execution_count": 133
        }
      ]
    },
    {
      "cell_type": "markdown",
      "source": [
        "Оценка заданной на проверку выборки"
      ],
      "metadata": {
        "id": "Zy4CvAGNkgtS"
      }
    },
    {
      "cell_type": "code",
      "source": [
        "p = model.predict(xtask).reshape(-1)"
      ],
      "metadata": {
        "colab": {
          "base_uri": "https://localhost:8080/"
        },
        "id": "j61TyC00n1GP",
        "outputId": "f8748dd7-ef51-4245-8920-38928ddb4ff1"
      },
      "execution_count": 134,
      "outputs": [
        {
          "output_type": "stream",
          "name": "stdout",
          "text": [
            "128/128 [==============================] - 4s 31ms/step\n"
          ]
        }
      ]
    },
    {
      "cell_type": "markdown",
      "source": [
        "Запись ответа"
      ],
      "metadata": {
        "id": "FJXLp2EIozhp"
      }
    },
    {
      "cell_type": "code",
      "source": [
        "a = ['ham','spam']\n",
        "with open('answer.csv','w') as f:\n",
        "  print('type','score','message',file = f)\n",
        "  for i in range(len(p)):\n",
        "    print(a[int(np.round(p[i]))],',',p[i],',',data[i][0]  ,file=f)"
      ],
      "metadata": {
        "id": "_nL0nkJVkl5D"
      },
      "execution_count": 135,
      "outputs": []
    }
  ],
  "metadata": {
    "accelerator": "GPU",
    "colab": {
      "gpuType": "T4",
      "provenance": []
    },
    "kernelspec": {
      "display_name": "Python 3",
      "name": "python3"
    },
    "language_info": {
      "name": "python"
    }
  },
  "nbformat": 4,
  "nbformat_minor": 0
}